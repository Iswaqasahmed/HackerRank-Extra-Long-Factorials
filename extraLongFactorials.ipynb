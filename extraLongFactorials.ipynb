{
 "cells": [
  {
   "cell_type": "markdown",
   "metadata": {},
   "source": [
    "The factorial of the integer `n` , written `n!`, is defined as:\n",
    "    n ( n - 2 ) ( n-1 ) ... 3.2.1\n",
    "    Calculate and print the factorial of a given integer.\n",
    "\n",
    "For example, if n = 30, we calculate 30.29.28.....3.2.1\n",
    "\n",
    "Function Description\n",
    "\n",
    "Complete the extraLongFactorials function in the editor below. It should print the result and return.\n",
    "\n",
    "extraLongFactorials has the following parameter(s):\n",
    "\n",
    "N: an integer\n",
    "\n",
    "Note: Factorials of  can't be stored even in a  long long variable. Big integers must be used for such calculations. Languages like Java, Python, Ruby etc. can handle big integers, but we need to write additional code in C/C++ to handle huge values.\n",
    "\n",
    "We recommend solving this challenge using BigIntegers.\n",
    "\n",
    "Input Format\n",
    "\n",
    "Input consists of a single integer  N\n",
    "\n",
    "Constraints\n",
    "\n",
    " 1 <= N <= 100\n",
    " Print the factorial of N.\n",
    " \n",
    "\n"
   ]
  },
  {
   "cell_type": "code",
   "execution_count": 17,
   "metadata": {},
   "outputs": [],
   "source": [
    "def extLong_Fac(n):\n",
    "    if n <= 0:\n",
    "        return 1\n",
    "    else:\n",
    "        return extLong_Fac(n-1)*n"
   ]
  },
  {
   "cell_type": "code",
   "execution_count": 18,
   "metadata": {},
   "outputs": [
    {
     "data": {
      "text/plain": [
       "120"
      ]
     },
     "execution_count": 18,
     "metadata": {},
     "output_type": "execute_result"
    }
   ],
   "source": [
    "extLong_Fac(5)"
   ]
  },
  {
   "cell_type": "markdown",
   "metadata": {},
   "source": [
    "### extLong_Fac(30)"
   ]
  },
  {
   "cell_type": "code",
   "execution_count": 29,
   "metadata": {},
   "outputs": [
    {
     "name": "stdout",
     "output_type": "stream",
     "text": [
      "55\n"
     ]
    }
   ],
   "source": [
    "def extraLongFactorials(n):\n",
    "    f = 1\n",
    "    for i in range(1,n+1):\n",
    "        f = f*i\n",
    "    return f\n",
    "        \n",
    "if __name__ == '__main__':\n",
    "    n = int(input())\n",
    "    extraLongFactorials(n)\n"
   ]
  },
  {
   "cell_type": "code",
   "execution_count": 27,
   "metadata": {},
   "outputs": [
    {
     "name": "stdout",
     "output_type": "stream",
     "text": [
      "4\n"
     ]
    }
   ],
   "source": []
  },
  {
   "cell_type": "code",
   "execution_count": null,
   "metadata": {},
   "outputs": [],
   "source": []
  }
 ],
 "metadata": {
  "kernelspec": {
   "display_name": "Python 3",
   "language": "python",
   "name": "python3"
  },
  "language_info": {
   "codemirror_mode": {
    "name": "ipython",
    "version": 3
   },
   "file_extension": ".py",
   "mimetype": "text/x-python",
   "name": "python",
   "nbconvert_exporter": "python",
   "pygments_lexer": "ipython3",
   "version": "3.7.4"
  }
 },
 "nbformat": 4,
 "nbformat_minor": 2
}
