{
 "cells": [
  {
   "cell_type": "markdown",
   "metadata": {},
   "source": [
    "The factorial of the integer `n` , written `n!`, is defined as:\n",
    "    n ( n - 2 ) ( n-1 ) ... 3.2.1\n",
    "    Calculate and print the factorial of a given integer.\n",
    "\n",
    "For example, if n = 30, we calculate 30.29.28.....3.2.1\n",
    "\n",
    "Function Description\n",
    "\n",
    "Complete the extraLongFactorials function in the editor below. It should print the result and return.\n",
    "\n",
    "extraLongFactorials has the following parameter(s):\n",
    "\n",
    "N: an integer\n",
    "\n",
    "Note: Factorials of  can't be stored even in a  long long variable. Big integers must be used for such calculations. Languages like Java, Python, Ruby etc. can handle big integers, but we need to write additional code in C/C++ to handle huge values.\n",
    "\n",
    "We recommend solving this challenge using BigIntegers.\n",
    "\n",
    "Input Format\n",
    "\n",
    "Input consists of a single integer  N\n",
    "\n",
    "Constraints\n",
    "\n",
    " 1 <= N <= 100\n",
    " Print the factorial of N.\n",
    " \n",
    "\n"
   ]
  }
 ],
 "metadata": {
  "kernelspec": {
   "display_name": "Python 3",
   "language": "python",
   "name": "python3"
  },
  "language_info": {
   "codemirror_mode": {
    "name": "ipython",
    "version": 3
   },
   "file_extension": ".py",
   "mimetype": "text/x-python",
   "name": "python",
   "nbconvert_exporter": "python",
   "pygments_lexer": "ipython3",
   "version": "3.7.4"
  }
 },
 "nbformat": 4,
 "nbformat_minor": 2
}
